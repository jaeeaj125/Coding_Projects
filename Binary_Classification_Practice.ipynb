{
  "nbformat": 4,
  "nbformat_minor": 0,
  "metadata": {
    "colab": {
      "name": "Untitled0.ipynb",
      "provenance": [],
      "authorship_tag": "ABX9TyOIiEeLCjUDoUCCgAz4Ey1Y",
      "include_colab_link": true
    },
    "kernelspec": {
      "name": "python3",
      "display_name": "Python 3"
    },
    "language_info": {
      "name": "python"
    }
  },
  "cells": [
    {
      "cell_type": "markdown",
      "metadata": {
        "id": "view-in-github",
        "colab_type": "text"
      },
      "source": [
        "<a href=\"https://colab.research.google.com/github/jaeeaj125/Coding_Projects/blob/main/Binary_Classification_Practice.ipynb\" target=\"_parent\"><img src=\"https://colab.research.google.com/assets/colab-badge.svg\" alt=\"Open In Colab\"/></a>"
      ]
    },
    {
      "cell_type": "markdown",
      "metadata": {
        "id": "fCx2nHg5nAsy"
      },
      "source": [
        "# Binary classification practice"
      ]
    },
    {
      "cell_type": "code",
      "metadata": {
        "id": "D--WOf72Sril"
      },
      "source": [
        "from keras.datasets import imdb\n",
        "from keras import models\n",
        "from keras import layers\n",
        "import numpy as np\n",
        "import matplotlib.pyplot as plt"
      ],
      "execution_count": 1,
      "outputs": []
    },
    {
      "cell_type": "code",
      "metadata": {
        "colab": {
          "base_uri": "https://localhost:8080/"
        },
        "id": "zNyVvxnWQeZs",
        "outputId": "2eb901ee-bf9c-4c99-9394-5b8db9ff6230"
      },
      "source": [
        "(train_data, train_labels),(test_data, test_labels) = imdb.load_data(num_words=10000)"
      ],
      "execution_count": 2,
      "outputs": [
        {
          "output_type": "stream",
          "text": [
            "<string>:6: VisibleDeprecationWarning: Creating an ndarray from ragged nested sequences (which is a list-or-tuple of lists-or-tuples-or ndarrays with different lengths or shapes) is deprecated. If you meant to do this, you must specify 'dtype=object' when creating the ndarray\n",
            "/usr/local/lib/python3.7/dist-packages/keras/datasets/imdb.py:155: VisibleDeprecationWarning: Creating an ndarray from ragged nested sequences (which is a list-or-tuple of lists-or-tuples-or ndarrays with different lengths or shapes) is deprecated. If you meant to do this, you must specify 'dtype=object' when creating the ndarray\n",
            "  x_train, y_train = np.array(xs[:idx]), np.array(labels[:idx])\n",
            "/usr/local/lib/python3.7/dist-packages/keras/datasets/imdb.py:156: VisibleDeprecationWarning: Creating an ndarray from ragged nested sequences (which is a list-or-tuple of lists-or-tuples-or ndarrays with different lengths or shapes) is deprecated. If you meant to do this, you must specify 'dtype=object' when creating the ndarray\n",
            "  x_test, y_test = np.array(xs[idx:]), np.array(labels[idx:])\n"
          ],
          "name": "stderr"
        }
      ]
    },
    {
      "cell_type": "code",
      "metadata": {
        "colab": {
          "base_uri": "https://localhost:8080/"
        },
        "id": "fACXVhSgRTAi",
        "outputId": "85bef060-abd4-4c80-976d-49df9d718b5e"
      },
      "source": [
        "max([max(sequence) for sequence in test_data])"
      ],
      "execution_count": 3,
      "outputs": [
        {
          "output_type": "execute_result",
          "data": {
            "text/plain": [
              "9999"
            ]
          },
          "metadata": {
            "tags": []
          },
          "execution_count": 3
        }
      ]
    },
    {
      "cell_type": "code",
      "metadata": {
        "colab": {
          "base_uri": "https://localhost:8080/"
        },
        "id": "4kSYejuzeI6T",
        "outputId": "7e62a489-c868-40a7-b964-8b3aaf2f1c42"
      },
      "source": [
        "word_index = imdb.get_word_index()\n",
        "reverse_word_index = dict([(value, key) for (key, value) in word_index.items()])\n",
        "decoded_review = ' '.join([reverse_word_index.get(i-3, '?') for i in train_data[0]])\n",
        "print(decoded_review)"
      ],
      "execution_count": 4,
      "outputs": [
        {
          "output_type": "stream",
          "text": [
            "? this film was just brilliant casting location scenery story direction everyone's really suited the part they played and you could just imagine being there robert ? is an amazing actor and now the same being director ? father came from the same scottish island as myself so i loved the fact there was a real connection with this film the witty remarks throughout the film were great it was just brilliant so much that i bought the film as soon as it was released for ? and would recommend it to everyone to watch and the fly fishing was amazing really cried at the end it was so sad and you know what they say if you cry at a film it must have been good and this definitely was also ? to the two little boy's that played the ? of norman and paul they were just brilliant children are often left out of the ? list i think because the stars that play them all grown up are such a big profile for the whole film but these children are amazing and should be praised for what they have done don't you think the whole story was so lovely because it was true and was someone's life after all that was shared with us all\n"
          ],
          "name": "stdout"
        }
      ]
    },
    {
      "cell_type": "code",
      "metadata": {
        "id": "3-LR1QI_Rbye"
      },
      "source": [
        "def vectorize_sequences(sequences, dimension=10000):\n",
        "  results = np.zeros((len(sequences), dimension))\n",
        "  for i, sequence in enumerate(sequences):\n",
        "    results[i, sequence] = 1.\n",
        "  return results"
      ],
      "execution_count": 5,
      "outputs": []
    },
    {
      "cell_type": "code",
      "metadata": {
        "id": "pQ9CrnRjTgwE"
      },
      "source": [
        "x_train = vectorize_sequences(train_data)\n",
        "x_test = vectorize_sequences(test_data)\n",
        "\n",
        "y_train = np.asarray(train_labels).astype('float32')\n",
        "y_test = np.asarray(test_labels).astype('float32')"
      ],
      "execution_count": 6,
      "outputs": []
    },
    {
      "cell_type": "code",
      "metadata": {
        "id": "fPQDyNRnTq5D"
      },
      "source": [
        "model = models.Sequential()\n",
        "model.add(layers.Dense(16, activation='relu', input_shape=(10000,)))\n",
        "model.add(layers.Dense(16, activation='relu'))\n",
        "model.add(layers.Dense(1, activation='sigmoid'))"
      ],
      "execution_count": 7,
      "outputs": []
    },
    {
      "cell_type": "code",
      "metadata": {
        "id": "Se7ipAANUr98"
      },
      "source": [
        "x_val = x_train[:10000]\n",
        "partial_x_train = x_train[10000:]\n",
        "\n",
        "y_val = y_train[:10000]\n",
        "partial_y_train = y_train[10000:]"
      ],
      "execution_count": 11,
      "outputs": []
    },
    {
      "cell_type": "code",
      "metadata": {
        "colab": {
          "base_uri": "https://localhost:8080/"
        },
        "id": "gZopJz2NhbwY",
        "outputId": "2250ffc5-4828-4c41-d6e5-90d1634c3119"
      },
      "source": [
        "model.compile(optimizer='rmsprop', loss='binary_crossentropy', metrics=['acc'])\n",
        "\n",
        "history = model.fit(partial_x_train, partial_y_train, epochs=20, batch_size=512, validation_data=(x_val, y_val))"
      ],
      "execution_count": 12,
      "outputs": [
        {
          "output_type": "stream",
          "text": [
            "Epoch 1/20\n",
            "30/30 [==============================] - 17s 63ms/step - loss: 0.5930 - acc: 0.7101 - val_loss: 0.3975 - val_acc: 0.8733\n",
            "Epoch 2/20\n",
            "30/30 [==============================] - 1s 38ms/step - loss: 0.3348 - acc: 0.9013 - val_loss: 0.3178 - val_acc: 0.8859\n",
            "Epoch 3/20\n",
            "30/30 [==============================] - 1s 37ms/step - loss: 0.2422 - acc: 0.9245 - val_loss: 0.2823 - val_acc: 0.8897\n",
            "Epoch 4/20\n",
            "30/30 [==============================] - 1s 38ms/step - loss: 0.1842 - acc: 0.9445 - val_loss: 0.2845 - val_acc: 0.8856\n",
            "Epoch 5/20\n",
            "30/30 [==============================] - 1s 38ms/step - loss: 0.1498 - acc: 0.9535 - val_loss: 0.2878 - val_acc: 0.8862\n",
            "Epoch 6/20\n",
            "30/30 [==============================] - 1s 37ms/step - loss: 0.1237 - acc: 0.9624 - val_loss: 0.2876 - val_acc: 0.8877\n",
            "Epoch 7/20\n",
            "30/30 [==============================] - 1s 38ms/step - loss: 0.0988 - acc: 0.9711 - val_loss: 0.3287 - val_acc: 0.8747\n",
            "Epoch 8/20\n",
            "30/30 [==============================] - 1s 38ms/step - loss: 0.0830 - acc: 0.9768 - val_loss: 0.3326 - val_acc: 0.8781\n",
            "Epoch 9/20\n",
            "30/30 [==============================] - 1s 37ms/step - loss: 0.0686 - acc: 0.9825 - val_loss: 0.3458 - val_acc: 0.8827\n",
            "Epoch 10/20\n",
            "30/30 [==============================] - 1s 37ms/step - loss: 0.0574 - acc: 0.9870 - val_loss: 0.3694 - val_acc: 0.8773\n",
            "Epoch 11/20\n",
            "30/30 [==============================] - 1s 39ms/step - loss: 0.0488 - acc: 0.9891 - val_loss: 0.3976 - val_acc: 0.8740\n",
            "Epoch 12/20\n",
            "30/30 [==============================] - 1s 37ms/step - loss: 0.0386 - acc: 0.9919 - val_loss: 0.4259 - val_acc: 0.8728\n",
            "Epoch 13/20\n",
            "30/30 [==============================] - 1s 37ms/step - loss: 0.0299 - acc: 0.9943 - val_loss: 0.4717 - val_acc: 0.8747\n",
            "Epoch 14/20\n",
            "30/30 [==============================] - 1s 37ms/step - loss: 0.0234 - acc: 0.9963 - val_loss: 0.4880 - val_acc: 0.8708\n",
            "Epoch 15/20\n",
            "30/30 [==============================] - 1s 38ms/step - loss: 0.0171 - acc: 0.9983 - val_loss: 0.5189 - val_acc: 0.8697\n",
            "Epoch 16/20\n",
            "30/30 [==============================] - 1s 40ms/step - loss: 0.0133 - acc: 0.9987 - val_loss: 0.5519 - val_acc: 0.8667\n",
            "Epoch 17/20\n",
            "30/30 [==============================] - 1s 38ms/step - loss: 0.0101 - acc: 0.9993 - val_loss: 0.6160 - val_acc: 0.8687\n",
            "Epoch 18/20\n",
            "30/30 [==============================] - 1s 37ms/step - loss: 0.0084 - acc: 0.9993 - val_loss: 0.6348 - val_acc: 0.8659\n",
            "Epoch 19/20\n",
            "30/30 [==============================] - 1s 38ms/step - loss: 0.0050 - acc: 0.9998 - val_loss: 0.6660 - val_acc: 0.8672\n",
            "Epoch 20/20\n",
            "30/30 [==============================] - 1s 37ms/step - loss: 0.0061 - acc: 0.9992 - val_loss: 0.6912 - val_acc: 0.8657\n"
          ],
          "name": "stdout"
        }
      ]
    },
    {
      "cell_type": "code",
      "metadata": {
        "colab": {
          "base_uri": "https://localhost:8080/",
          "height": 295
        },
        "id": "jF-4jUa8VB10",
        "outputId": "f27f68b2-26d2-4234-8b72-c9a45b25a02f"
      },
      "source": [
        "history_dict = history.history\n",
        "loss_values = history_dict['loss']\n",
        "val_loss_values = history_dict['val_loss']\n",
        "\n",
        "epochs = range(1, len(loss_values)+1)\n",
        "plt.plot(epochs, loss_values, 'bo', label='Training loss')\n",
        "plt.plot(epochs, val_loss_values, 'r', label='Validation loss')\n",
        "plt.title('Training and validation loss')\n",
        "plt.xlabel('Epochs')\n",
        "plt.ylabel('Loss')\n",
        "plt.legend()\n",
        "plt.show()"
      ],
      "execution_count": 13,
      "outputs": [
        {
          "output_type": "display_data",
          "data": {
            "image/png": "[encoded data removed]",
            "text/plain": [
              "<Figure size 432x288 with 1 Axes>"
            ]
          },
          "metadata": {
            "tags": [],
            "needs_background": "light"
          }
        }
      ]
    },
    {
      "cell_type": "code",
      "metadata": {
        "colab": {
          "base_uri": "https://localhost:8080/",
          "height": 281
        },
        "id": "XbzKmzXkYOAw",
        "outputId": "d40ab58f-aab9-442a-e074-422a94130ac9"
      },
      "source": [
        "plt.clf()\n",
        "\n",
        "acc = history_dict['acc']\n",
        "val_acc = history_dict['val_acc']\n",
        "plt.plot(epochs, acc, 'bo', label='Training accuracy')\n",
        "plt.plot(epochs, val_acc, 'r', label='Validation accuracy')\n",
        "plt.title('Training and validation accuracy')\n",
        "plt.legend()\n",
        "plt.show()"
      ],
      "execution_count": 14,
      "outputs": [
        {
          "output_type": "display_data",
          "data": {
            "image/png": "[encoded data removed]",
            "text/plain": [
              "<Figure size 432x288 with 1 Axes>"
            ]
          },
          "metadata": {
            "tags": [],
            "needs_background": "light"
          }
        }
      ]
    },
    {
      "cell_type": "markdown",
      "metadata": {
        "id": "NfoGmiu5lB8a"
      },
      "source": [
        "Re-train the model"
      ]
    },
    {
      "cell_type": "code",
      "metadata": {
        "id": "K0aKdRvfZbH9",
        "colab": {
          "base_uri": "https://localhost:8080/"
        },
        "outputId": "25b82377-0151-4e1d-82be-634eae04254b"
      },
      "source": [
        "model = models.Sequential()\n",
        "model.add(layers.Dense(16, activation='relu', input_shape=(10000,)))\n",
        "model.add(layers.Dense(16, activation='relu'))\n",
        "model.add(layers.Dense(1, activation='sigmoid'))\n",
        "\n",
        "model.compile(optimizer='rmsprop', loss='binary_crossentropy', metrics=['acc'])\n",
        "\n",
        "model.fit(x_train, y_train, epochs=4, batch_size=512)\n",
        "results = model.evaluate(x_test, y_test)\n",
        "results"
      ],
      "execution_count": 16,
      "outputs": [
        {
          "output_type": "stream",
          "text": [
            "Epoch 1/4\n",
            "49/49 [==============================] - 2s 30ms/step - loss: 0.5307 - acc: 0.7519\n",
            "Epoch 2/4\n",
            "49/49 [==============================] - 1s 30ms/step - loss: 0.2634 - acc: 0.9109\n",
            "Epoch 3/4\n",
            "49/49 [==============================] - 2s 31ms/step - loss: 0.1954 - acc: 0.9340\n",
            "Epoch 4/4\n",
            "49/49 [==============================] - 1s 30ms/step - loss: 0.1546 - acc: 0.9470\n",
            "782/782 [==============================] - 2s 3ms/step - loss: 0.3128 - acc: 0.8768\n"
          ],
          "name": "stdout"
        },
        {
          "output_type": "execute_result",
          "data": {
            "text/plain": [
              "[0.3127538859844208, 0.8767600059509277]"
            ]
          },
          "metadata": {
            "tags": []
          },
          "execution_count": 16
        }
      ]
    },
    {
      "cell_type": "markdown",
      "metadata": {
        "id": "Pl3YCYBnmxKo"
      },
      "source": [
        "# Training with more layers"
      ]
    },
    {
      "cell_type": "code",
      "metadata": {
        "colab": {
          "base_uri": "https://localhost:8080/"
        },
        "id": "Jg5AOs0qm6DG",
        "outputId": "24b52ab2-6dc8-45e8-e94d-ca964db3e918"
      },
      "source": [
        "model=models.Sequential()\n",
        "model.add(layers.Dense(16, activation='relu', input_shape=(10000,)))\n",
        "model.add(layers.Dense(16, activation='relu'))\n",
        "model.add(layers.Dense(16, activation='relu'))\n",
        "model.add(layers.Dense(16, activation='relu'))\n",
        "model.add(layers.Dense(1, activation='sigmoid'))\n",
        "\n",
        "model.compile(optimizer='rmsprop', loss='binary_crossentropy', metrics=['acc'])\n",
        "\n",
        "history = model.fit(partial_x_train, partial_y_train, epochs=20, batch_size=512, validation_data=(x_val, y_val))"
      ],
      "execution_count": 18,
      "outputs": [
        {
          "output_type": "stream",
          "text": [
            "Epoch 1/20\n",
            "30/30 [==============================] - 3s 58ms/step - loss: 0.6102 - acc: 0.7010 - val_loss: 0.3856 - val_acc: 0.8697\n",
            "Epoch 2/20\n",
            "30/30 [==============================] - 1s 39ms/step - loss: 0.3151 - acc: 0.9010 - val_loss: 0.3098 - val_acc: 0.8778\n",
            "Epoch 3/20\n",
            "30/30 [==============================] - 1s 42ms/step - loss: 0.2092 - acc: 0.9344 - val_loss: 0.3213 - val_acc: 0.8727\n",
            "Epoch 4/20\n",
            "30/30 [==============================] - 1s 39ms/step - loss: 0.1581 - acc: 0.9496 - val_loss: 0.3294 - val_acc: 0.8745\n",
            "Epoch 5/20\n",
            "30/30 [==============================] - 1s 39ms/step - loss: 0.1224 - acc: 0.9627 - val_loss: 0.3037 - val_acc: 0.8858\n",
            "Epoch 6/20\n",
            "30/30 [==============================] - 1s 41ms/step - loss: 0.0977 - acc: 0.9704 - val_loss: 0.3294 - val_acc: 0.8819\n",
            "Epoch 7/20\n",
            "30/30 [==============================] - 1s 39ms/step - loss: 0.0763 - acc: 0.9784 - val_loss: 0.3597 - val_acc: 0.8796\n",
            "Epoch 8/20\n",
            "30/30 [==============================] - 1s 39ms/step - loss: 0.0589 - acc: 0.9844 - val_loss: 0.4027 - val_acc: 0.8776\n",
            "Epoch 9/20\n",
            "30/30 [==============================] - 1s 39ms/step - loss: 0.0517 - acc: 0.9862 - val_loss: 0.4294 - val_acc: 0.8761\n",
            "Epoch 10/20\n",
            "30/30 [==============================] - 1s 40ms/step - loss: 0.0366 - acc: 0.9906 - val_loss: 0.4625 - val_acc: 0.8762\n",
            "Epoch 11/20\n",
            "30/30 [==============================] - 1s 39ms/step - loss: 0.0290 - acc: 0.9934 - val_loss: 0.5019 - val_acc: 0.8744\n",
            "Epoch 12/20\n",
            "30/30 [==============================] - 1s 39ms/step - loss: 0.0204 - acc: 0.9956 - val_loss: 0.5398 - val_acc: 0.8708\n",
            "Epoch 13/20\n",
            "30/30 [==============================] - 1s 40ms/step - loss: 0.0109 - acc: 0.9987 - val_loss: 0.6350 - val_acc: 0.8651\n",
            "Epoch 14/20\n",
            "30/30 [==============================] - 1s 39ms/step - loss: 0.0476 - acc: 0.9841 - val_loss: 0.6029 - val_acc: 0.8709\n",
            "Epoch 15/20\n",
            "30/30 [==============================] - 1s 39ms/step - loss: 0.0112 - acc: 0.9976 - val_loss: 0.6456 - val_acc: 0.8711\n",
            "Epoch 16/20\n",
            "30/30 [==============================] - 1s 40ms/step - loss: 0.0045 - acc: 0.9995 - val_loss: 0.6901 - val_acc: 0.8688\n",
            "Epoch 17/20\n",
            "30/30 [==============================] - 1s 40ms/step - loss: 0.0083 - acc: 0.9981 - val_loss: 0.7599 - val_acc: 0.8674\n",
            "Epoch 18/20\n",
            "30/30 [==============================] - 1s 39ms/step - loss: 0.0019 - acc: 0.9998 - val_loss: 0.7824 - val_acc: 0.8664\n",
            "Epoch 19/20\n",
            "30/30 [==============================] - 1s 38ms/step - loss: 0.0019 - acc: 0.9997 - val_loss: 0.8401 - val_acc: 0.8669\n",
            "Epoch 20/20\n",
            "30/30 [==============================] - 1s 38ms/step - loss: 0.0095 - acc: 0.9974 - val_loss: 0.9037 - val_acc: 0.8648\n"
          ],
          "name": "stdout"
        }
      ]
    },
    {
      "cell_type": "code",
      "metadata": {
        "colab": {
          "base_uri": "https://localhost:8080/",
          "height": 295
        },
        "id": "NHiai7I4n8Ht",
        "outputId": "c7d92287-e116-4139-8f58-bdfeb3711338"
      },
      "source": [
        "history_dict = history.history\n",
        "loss_values = history_dict['loss']\n",
        "val_loss_values = history_dict['val_loss']\n",
        "\n",
        "epochs = range(1, len(loss_values)+1)\n",
        "plt.plot(epochs, loss_values, 'bo', label='Training loss')\n",
        "plt.plot(epochs, val_loss_values, 'r', label='Validation loss')\n",
        "plt.title('Training and validation loss')\n",
        "plt.xlabel('Epochs')\n",
        "plt.ylabel('Loss')\n",
        "plt.legend()\n",
        "plt.show()"
      ],
      "execution_count": 19,
      "outputs": [
        {
          "output_type": "display_data",
          "data": {
            "image/png": "[encoded data removed]",
            "text/plain": [
              "<Figure size 432x288 with 1 Axes>"
            ]
          },
          "metadata": {
            "tags": [],
            "needs_background": "light"
          }
        }
      ]
    },
    {
      "cell_type": "code",
      "metadata": {
        "colab": {
          "base_uri": "https://localhost:8080/",
          "height": 281
        },
        "id": "kXyqn_mEoIx3",
        "outputId": "e6d6987c-7134-4132-f32b-bd9e06e96bcd"
      },
      "source": [
        "plt.clf()\n",
        "\n",
        "acc = history_dict['acc']\n",
        "val_acc = history_dict['val_acc']\n",
        "plt.plot(epochs, acc, 'bo', label='Training accuracy')\n",
        "plt.plot(epochs, val_acc, 'r', label='Validation accuracy')\n",
        "plt.title('Training and validation accuracy')\n",
        "plt.legend()\n",
        "plt.show()"
      ],
      "execution_count": 20,
      "outputs": [
        {
          "output_type": "display_data",
          "data": {
            "image/png": "[encoded data removed]",
            "text/plain": [
              "<Figure size 432x288 with 1 Axes>"
            ]
          },
          "metadata": {
            "tags": [],
            "needs_background": "light"
          }
        }
      ]
    },
    {
      "cell_type": "code",
      "metadata": {
        "colab": {
          "base_uri": "https://localhost:8080/"
        },
        "id": "LoPYAWKRoJPK",
        "outputId": "369a915b-24c0-47c0-acc5-fbba6dd097ab"
      },
      "source": [
        "model = models.Sequential()\n",
        "model.add(layers.Dense(16, activation='relu', input_shape=(10000,)))\n",
        "model.add(layers.Dense(16, activation='relu'))\n",
        "model.add(layers.Dense(16, activation='relu'))\n",
        "model.add(layers.Dense(16, activation='relu'))\n",
        "model.add(layers.Dense(1, activation='sigmoid'))\n",
        "\n",
        "model.compile(optimizer='rmsprop', loss='binary_crossentropy', metrics=['acc'])\n",
        "\n",
        "model.fit(x_train, y_train, epochs=5, batch_size=512)\n",
        "results = model.evaluate(x_test, y_test)\n",
        "results"
      ],
      "execution_count": 21,
      "outputs": [
        {
          "output_type": "stream",
          "text": [
            "Epoch 1/5\n",
            "49/49 [==============================] - 3s 31ms/step - loss: 0.5553 - acc: 0.7354\n",
            "Epoch 2/5\n",
            "49/49 [==============================] - 2s 31ms/step - loss: 0.2562 - acc: 0.9100\n",
            "Epoch 3/5\n",
            "49/49 [==============================] - 2s 31ms/step - loss: 0.1806 - acc: 0.9376\n",
            "Epoch 4/5\n",
            "49/49 [==============================] - 1s 30ms/step - loss: 0.1661 - acc: 0.9399\n",
            "Epoch 5/5\n",
            "49/49 [==============================] - 1s 30ms/step - loss: 0.1306 - acc: 0.9541\n",
            "782/782 [==============================] - 2s 3ms/step - loss: 0.3558 - acc: 0.8741\n"
          ],
          "name": "stdout"
        },
        {
          "output_type": "execute_result",
          "data": {
            "text/plain": [
              "[0.3558337092399597, 0.8740800023078918]"
            ]
          },
          "metadata": {
            "tags": []
          },
          "execution_count": 21
        }
      ]
    },
    {
      "cell_type": "markdown",
      "metadata": {
        "id": "esMNlzHdos0v"
      },
      "source": [
        "# Training with more units"
      ]
    },
    {
      "cell_type": "code",
      "metadata": {
        "colab": {
          "base_uri": "https://localhost:8080/"
        },
        "id": "Avy4seLNo1kF",
        "outputId": "b28a0143-ca42-4132-a622-40adf89ca035"
      },
      "source": [
        "model = models.Sequential()\n",
        "model.add(layers.Dense(64, activation='relu', input_shape=(10000,)))\n",
        "model.add(layers.Dense(64, activation='relu'))\n",
        "model.add(layers.Dense(1, activation='sigmoid'))\n",
        "\n",
        "model.compile(optimizer='rmsprop', loss='binary_crossentropy', metrics=['acc'])\n",
        "\n",
        "model.fit(partial_x_train, partial_y_train, batch_size=512, epochs=20, validation_data=(x_val, y_val))"
      ],
      "execution_count": 22,
      "outputs": [
        {
          "output_type": "stream",
          "text": [
            "Epoch 1/20\n",
            "30/30 [==============================] - 3s 82ms/step - loss: 0.5842 - acc: 0.6829 - val_loss: 0.3400 - val_acc: 0.8702\n",
            "Epoch 2/20\n",
            "30/30 [==============================] - 2s 61ms/step - loss: 0.2815 - acc: 0.8937 - val_loss: 0.3131 - val_acc: 0.8766\n",
            "Epoch 3/20\n",
            "30/30 [==============================] - 2s 61ms/step - loss: 0.1794 - acc: 0.9372 - val_loss: 0.3931 - val_acc: 0.8418\n",
            "Epoch 4/20\n",
            "30/30 [==============================] - 2s 61ms/step - loss: 0.1483 - acc: 0.9426 - val_loss: 0.3524 - val_acc: 0.8755\n",
            "Epoch 5/20\n",
            "30/30 [==============================] - 2s 61ms/step - loss: 0.0958 - acc: 0.9722 - val_loss: 0.3283 - val_acc: 0.8822\n",
            "Epoch 6/20\n",
            "30/30 [==============================] - 2s 61ms/step - loss: 0.0714 - acc: 0.9797 - val_loss: 0.3458 - val_acc: 0.8818\n",
            "Epoch 7/20\n",
            "30/30 [==============================] - 2s 61ms/step - loss: 0.0487 - acc: 0.9894 - val_loss: 0.3779 - val_acc: 0.8779\n",
            "Epoch 8/20\n",
            "30/30 [==============================] - 2s 60ms/step - loss: 0.0293 - acc: 0.9946 - val_loss: 0.4022 - val_acc: 0.8780\n",
            "Epoch 9/20\n",
            "30/30 [==============================] - 2s 62ms/step - loss: 0.0189 - acc: 0.9979 - val_loss: 0.5391 - val_acc: 0.8687\n",
            "Epoch 10/20\n",
            "30/30 [==============================] - 2s 60ms/step - loss: 0.0409 - acc: 0.9862 - val_loss: 0.5264 - val_acc: 0.8769\n",
            "Epoch 11/20\n",
            "30/30 [==============================] - 2s 62ms/step - loss: 0.0260 - acc: 0.9944 - val_loss: 0.5378 - val_acc: 0.8744\n",
            "Epoch 12/20\n",
            "30/30 [==============================] - 2s 60ms/step - loss: 0.0049 - acc: 0.9996 - val_loss: 0.5832 - val_acc: 0.8738\n",
            "Epoch 13/20\n",
            "30/30 [==============================] - 2s 61ms/step - loss: 0.0029 - acc: 0.9999 - val_loss: 1.2490 - val_acc: 0.7932\n",
            "Epoch 14/20\n",
            "30/30 [==============================] - 2s 61ms/step - loss: 0.0979 - acc: 0.9733 - val_loss: 0.6632 - val_acc: 0.8698\n",
            "Epoch 15/20\n",
            "30/30 [==============================] - 2s 61ms/step - loss: 0.0013 - acc: 1.0000 - val_loss: 0.7155 - val_acc: 0.8696\n",
            "Epoch 16/20\n",
            "30/30 [==============================] - 2s 60ms/step - loss: 0.0017 - acc: 0.9998 - val_loss: 0.8938 - val_acc: 0.8558\n",
            "Epoch 17/20\n",
            "30/30 [==============================] - 2s 61ms/step - loss: 0.0014 - acc: 0.9998 - val_loss: 0.8172 - val_acc: 0.8707\n",
            "Epoch 18/20\n",
            "30/30 [==============================] - 2s 59ms/step - loss: 3.5015e-04 - acc: 1.0000 - val_loss: 0.8475 - val_acc: 0.8707\n",
            "Epoch 19/20\n",
            "30/30 [==============================] - 2s 61ms/step - loss: 2.2846e-04 - acc: 1.0000 - val_loss: 0.9055 - val_acc: 0.8695\n",
            "Epoch 20/20\n",
            "30/30 [==============================] - 2s 60ms/step - loss: 0.0130 - acc: 0.9975 - val_loss: 0.9412 - val_acc: 0.8690\n"
          ],
          "name": "stdout"
        },
        {
          "output_type": "execute_result",
          "data": {
            "text/plain": [
              "<keras.callbacks.History at 0x7f4605827550>"
            ]
          },
          "metadata": {
            "tags": []
          },
          "execution_count": 22
        }
      ]
    },
    {
      "cell_type": "code",
      "metadata": {
        "colab": {
          "base_uri": "https://localhost:8080/",
          "height": 295
        },
        "id": "RWEowgDqpvOO",
        "outputId": "73b546c9-fd37-4c82-d8d0-da785f641a02"
      },
      "source": [
        "history_dict = history.history\n",
        "loss_values = history_dict['loss']\n",
        "val_loss_values = history_dict['val_loss']\n",
        "\n",
        "epochs = range(1, len(loss_values)+1)\n",
        "plt.plot(epochs, loss_values, 'bo', label='Training loss')\n",
        "plt.plot(epochs, val_loss_values, 'r', label='Validation loss')\n",
        "plt.title('Training and validation loss')\n",
        "plt.xlabel('Epochs')\n",
        "plt.ylabel('Loss')\n",
        "plt.legend()\n",
        "plt.show()"
      ],
      "execution_count": 23,
      "outputs": [
        {
          "output_type": "display_data",
          "data": {
            "image/png": "[encoded data removed]",
            "text/plain": [
              "<Figure size 432x288 with 1 Axes>"
            ]
          },
          "metadata": {
            "tags": [],
            "needs_background": "light"
          }
        }
      ]
    },
    {
      "cell_type": "code",
      "metadata": {
        "colab": {
          "base_uri": "https://localhost:8080/",
          "height": 281
        },
        "id": "ETIQW_TDpzJ4",
        "outputId": "0a3e07ab-b20e-4ad8-af3d-452cba144eb3"
      },
      "source": [
        "plt.clf()\n",
        "\n",
        "acc = history_dict['acc']\n",
        "val_acc = history_dict['val_acc']\n",
        "plt.plot(epochs, acc, 'bo', label='Training accuracy')\n",
        "plt.plot(epochs, val_acc, 'r', label='Validation accuracy')\n",
        "plt.title('Training and validation accuracy')\n",
        "plt.legend()\n",
        "plt.show()"
      ],
      "execution_count": 24,
      "outputs": [
        {
          "output_type": "display_data",
          "data": {
            "image/png": "[encoded data removed]",
            "text/plain": [
              "<Figure size 432x288 with 1 Axes>"
            ]
          },
          "metadata": {
            "tags": [],
            "needs_background": "light"
          }
        }
      ]
    },
    {
      "cell_type": "code",
      "metadata": {
        "colab": {
          "base_uri": "https://localhost:8080/"
        },
        "id": "4LX17MUMp3Dz",
        "outputId": "7af2d0b5-41df-4257-8ead-c09a6c5d9dce"
      },
      "source": [
        "model = models.Sequential()\n",
        "model.add(layers.Dense(64, activation='relu', input_shape=(10000,)))\n",
        "model.add(layers.Dense(64, activation='relu'))\n",
        "model.add(layers.Dense(1, activation='sigmoid'))\n",
        "\n",
        "model.compile(optimizer='rmsprop', loss='binary_crossentropy', metrics=['acc'])\n",
        "\n",
        "model.fit(x_train, y_train, epochs=5, batch_size=512)\n",
        "results = model.evaluate(x_test, y_test)\n",
        "results"
      ],
      "execution_count": 25,
      "outputs": [
        {
          "output_type": "stream",
          "text": [
            "Epoch 1/5\n",
            "49/49 [==============================] - 4s 51ms/step - loss: 0.5281 - acc: 0.7398\n",
            "Epoch 2/5\n",
            "49/49 [==============================] - 2s 51ms/step - loss: 0.2467 - acc: 0.9052\n",
            "Epoch 3/5\n",
            "49/49 [==============================] - 2s 51ms/step - loss: 0.1896 - acc: 0.9282\n",
            "Epoch 4/5\n",
            "49/49 [==============================] - 2s 49ms/step - loss: 0.1428 - acc: 0.9463\n",
            "Epoch 5/5\n",
            "49/49 [==============================] - 2s 51ms/step - loss: 0.1133 - acc: 0.9604\n",
            "782/782 [==============================] - 3s 4ms/step - loss: 0.3408 - acc: 0.8742\n"
          ],
          "name": "stdout"
        },
        {
          "output_type": "execute_result",
          "data": {
            "text/plain": [
              "[0.3408379554748535, 0.8741599917411804]"
            ]
          },
          "metadata": {
            "tags": []
          },
          "execution_count": 25
        }
      ]
    }
  ]
}